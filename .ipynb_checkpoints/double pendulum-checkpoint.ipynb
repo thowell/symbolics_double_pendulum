{
 "cells": [
  {
   "cell_type": "code",
   "execution_count": 1,
   "metadata": {},
   "outputs": [
    {
     "name": "stderr",
     "output_type": "stream",
     "text": [
      "\u001b[32m\u001b[1m  Activating\u001b[22m\u001b[39m environment at `~/Research/symbolics_double_pendulum/Project.toml`\n",
      "┌ Info: Precompiling Symbolics [0c5d862f-8b57-4792-8d23-62f2024744c7]\n",
      "└ @ Base loading.jl:1317\n",
      "┌ Info: Precompiling DifferentialEquations [0c46a032-eb83-5123-abaf-570d42b7fbaa]\n",
      "└ @ Base loading.jl:1317\n"
     ]
    }
   ],
   "source": [
    "using Pkg\n",
    "Pkg.activate(@__DIR__)\n",
    "Pkg.instantiate()\n",
    "\n",
    "using LinearAlgebra, Symbolics, DifferentialEquations, JLD2"
   ]
  },
  {
   "cell_type": "code",
   "execution_count": 2,
   "metadata": {},
   "outputs": [
    {
     "data": {
      "text/plain": [
       "DoublePendulum{Float64}(1.0, 1.0, 1.0, 1.0)"
      ]
     },
     "execution_count": 2,
     "metadata": {},
     "output_type": "execute_result"
    }
   ],
   "source": [
    "struct DoublePendulum{T}\n",
    "\tm1::T\n",
    "\tm2::T\n",
    "\tl1::T\n",
    "\tl2::T\n",
    "end\n",
    "\n",
    "n = 2 # number of states\n",
    "model = DoublePendulum(1.0, 1.0, 1.0, 1.0) # model"
   ]
  },
  {
   "cell_type": "code",
   "execution_count": 3,
   "metadata": {},
   "outputs": [
    {
     "data": {
      "text/plain": [
       "kinematics_2 (generic function with 1 method)"
      ]
     },
     "execution_count": 3,
     "metadata": {},
     "output_type": "execute_result"
    }
   ],
   "source": [
    "# kinematics\n",
    "function kinematics_1(model::DoublePendulum, q)\n",
    "\tθ1, θ2 = q\n",
    "\n",
    "\t[0.5 * model.l1 * sin(θ1);\n",
    "\t -0.5 * model.l1 * cos(θ1)]\n",
    "end\n",
    "\n",
    "function kinematics_2(model::DoublePendulum, q)\n",
    "\tθ1, θ2 = q\n",
    "\n",
    "\t[model.l1 * sin(θ1) + 0.5 * model.l2 * sin(θ1 + θ2);\n",
    "\t -model.l1 * cos(θ1) - 0.5 * model.l2 * cos(θ1 + θ2)]\n",
    "end"
   ]
  },
  {
   "cell_type": "code",
   "execution_count": 4,
   "metadata": {},
   "outputs": [
    {
     "data": {
      "text/plain": [
       "#7 (generic function with 1 method)"
      ]
     },
     "execution_count": 4,
     "metadata": {},
     "output_type": "execute_result"
    }
   ],
   "source": [
    "# fast kinematics functions\n",
    "@variables q[1:n]\n",
    "@variables q̇[1:n]\n",
    "\n",
    "k1 = kinematics_1(model, q)\n",
    "k2 = kinematics_2(model, q)\n",
    "\n",
    "k1_exp = Symbolics.build_function(k1, q)\n",
    "k2_exp = Symbolics.build_function(k2, q)\n",
    "\n",
    "k1_func = eval(k1_exp[1])\n",
    "k2_func = eval(k2_exp[1])"
   ]
  },
  {
   "cell_type": "code",
   "execution_count": 5,
   "metadata": {},
   "outputs": [
    {
     "data": {
      "text/plain": [
       "#11 (generic function with 1 method)"
      ]
     },
     "execution_count": 5,
     "metadata": {},
     "output_type": "execute_result"
    }
   ],
   "source": [
    "# kinematics Jacobians\n",
    "j1 = Symbolics.jacobian(k1, q, simplify = true)\n",
    "j2 = Symbolics.jacobian(k2, q, simplify = true)\n",
    "\n",
    "j1_exp = Symbolics.build_function(j1, q)\n",
    "j2_exp = Symbolics.build_function(j2, q)\n",
    "\n",
    "j1_func = eval(j1_exp[1])\n",
    "j2_func = eval(j2_exp[1])"
   ]
  },
  {
   "cell_type": "code",
   "execution_count": 6,
   "metadata": {},
   "outputs": [
    {
     "data": {
      "text/latex": [
       "\\begin{equation}\n",
       "\\left[\n",
       "\\begin{array}{c}\n",
       "q\\dot{_2} \\left( \\left( \\cos\\left( q{_1} \\right) + 0.5 \\cos\\left( q{_1} + q{_2} \\right) \\right) \\left(  - 0.25 q\\dot{_1} \\sin\\left( q{_1} + q{_2} \\right) - 0.25 q\\dot{_2} \\sin\\left( q{_1} + q{_2} \\right) \\right) + \\left( \\sin\\left( q{_1} \\right) + 0.5 \\sin\\left( q{_1} + q{_2} \\right) \\right) \\left( 0.25 q\\dot{_1} \\cos\\left( q{_1} + q{_2} \\right) + 0.25 q\\dot{_2} \\cos\\left( q{_1} + q{_2} \\right) \\right) + \\left( 0.5 \\cos\\left( q{_1} \\right) + 0.25 \\cos\\left( q{_1} + q{_2} \\right) \\right) \\left(  - 0.5 q\\dot{_1} \\sin\\left( q{_1} + q{_2} \\right) - 0.5 q\\dot{_2} \\sin\\left( q{_1} + q{_2} \\right) \\right) + \\left( 0.5 \\sin\\left( q{_1} \\right) + 0.25 \\sin\\left( q{_1} + q{_2} \\right) \\right) \\left( 0.5 q\\dot{_1} \\cos\\left( q{_1} + q{_2} \\right) + 0.5 q\\dot{_2} \\cos\\left( q{_1} + q{_2} \\right) \\right) + 0.25 \\cos\\left( q{_1} + q{_2} \\right) \\left( q\\dot{_1} \\left( \\sin\\left( q{_1} \\right) + 0.5 \\sin\\left( q{_1} + q{_2} \\right) \\right) + 0.5 q\\dot{_2} \\sin\\left( q{_1} + q{_2} \\right) \\right) + 0.5 \\cos\\left( q{_1} + q{_2} \\right) \\left( 0.5 q\\dot{_1} \\left( \\sin\\left( q{_1} \\right) + 0.5 \\sin\\left( q{_1} + q{_2} \\right) \\right) + 0.25 q\\dot{_2} \\sin\\left( q{_1} + q{_2} \\right) \\right) - 0.25 \\sin\\left( q{_1} + q{_2} \\right) \\left( q\\dot{_1} \\left( \\cos\\left( q{_1} \\right) + 0.5 \\cos\\left( q{_1} + q{_2} \\right) \\right) + 0.5 q\\dot{_2} \\cos\\left( q{_1} + q{_2} \\right) \\right) - 0.5 \\sin\\left( q{_1} + q{_2} \\right) \\left( 0.5 q\\dot{_1} \\left( \\cos\\left( q{_1} \\right) + 0.5 \\cos\\left( q{_1} + q{_2} \\right) \\right) + 0.25 q\\dot{_2} \\cos\\left( q{_1} + q{_2} \\right) \\right) \\right) + 14.715 \\sin\\left( q{_1} \\right) + 4.905 \\sin\\left( q{_1} + q{_2} \\right) \\\\\n",
       "q\\dot{_2} \\left( 2 \\cos\\left( q{_1} + q{_2} \\right) \\left(  - 0.125 q\\dot{_1} \\sin\\left( q{_1} + q{_2} \\right) + 0.25 q\\dot{_1} \\left( \\sin\\left( q{_1} \\right) + 0.5 \\sin\\left( q{_1} + q{_2} \\right) \\right) \\right) - 0.25 \\sin\\left( q{_1} + q{_2} \\right) \\left( q\\dot{_1} \\left( \\cos\\left( q{_1} \\right) + 0.5 \\cos\\left( q{_1} + q{_2} \\right) \\right) + 0.5 q\\dot{_2} \\cos\\left( q{_1} + q{_2} \\right) \\right) + 0.5 \\sin\\left( q{_1} + q{_2} \\right) \\left( 0.25 q\\dot{_1} \\cos\\left( q{_1} + q{_2} \\right) + 0.25 q\\dot{_2} \\cos\\left( q{_1} + q{_2} \\right) \\right) + 0.25 \\sin\\left( q{_1} + q{_2} \\right) \\left( 0.5 q\\dot{_1} \\cos\\left( q{_1} + q{_2} \\right) + 0.5 q\\dot{_2} \\cos\\left( q{_1} + q{_2} \\right) \\right) - 0.5 \\sin\\left( q{_1} + q{_2} \\right) \\left( 0.5 q\\dot{_1} \\left( \\cos\\left( q{_1} \\right) + 0.5 \\cos\\left( q{_1} + q{_2} \\right) \\right) + 0.25 q\\dot{_2} \\cos\\left( q{_1} + q{_2} \\right) \\right) \\right) + 4.905 \\sin\\left( q{_1} + q{_2} \\right) - \\left( q\\dot{_1} \\left( \\cos\\left( q{_1} \\right) + 0.5 \\cos\\left( q{_1} + q{_2} \\right) \\right) + 0.5 q\\dot{_2} \\cos\\left( q{_1} + q{_2} \\right) \\right) \\left(  - 0.25 q\\dot{_1} \\sin\\left( q{_1} + q{_2} \\right) - 0.25 q\\dot{_2} \\sin\\left( q{_1} + q{_2} \\right) \\right) - \\left( q\\dot{_1} \\left( \\sin\\left( q{_1} \\right) + 0.5 \\sin\\left( q{_1} + q{_2} \\right) \\right) + 0.5 q\\dot{_2} \\sin\\left( q{_1} + q{_2} \\right) \\right) \\left( 0.25 q\\dot{_1} \\cos\\left( q{_1} + q{_2} \\right) + 0.25 q\\dot{_2} \\cos\\left( q{_1} + q{_2} \\right) \\right) - \\left( 0.5 q\\dot{_1} \\cos\\left( q{_1} + q{_2} \\right) + 0.5 q\\dot{_2} \\cos\\left( q{_1} + q{_2} \\right) \\right) \\left( 0.5 q\\dot{_1} \\left( \\sin\\left( q{_1} \\right) + 0.5 \\sin\\left( q{_1} + q{_2} \\right) \\right) + 0.25 q\\dot{_2} \\sin\\left( q{_1} + q{_2} \\right) \\right) - \\left(  - 0.5 q\\dot{_1} \\sin\\left( q{_1} + q{_2} \\right) - 0.5 q\\dot{_2} \\sin\\left( q{_1} + q{_2} \\right) \\right) \\left( 0.5 q\\dot{_1} \\left( \\cos\\left( q{_1} \\right) + 0.5 \\cos\\left( q{_1} + q{_2} \\right) \\right) + 0.25 q\\dot{_2} \\cos\\left( q{_1} + q{_2} \\right) \\right) \\\\\n",
       "\\end{array}\n",
       "\\right]\n",
       "\\end{equation}\n"
      ],
      "text/plain": [
       "2-element Vector{Num}:\n",
       "     q̇₂*((cos(q₁) + 0.5cos(q₁ + q₂))*(-0.25q̇₁*sin(q₁ + q₂) - (0.25q̇₂*sin(q₁ + q₂))) + (sin(q₁) + 0.5sin(q₁ + q₂))*(0.25q̇₁*cos(q₁ + q₂) + 0.25q̇₂*cos(q₁ + q₂)) + (0.5cos(q₁) + 0.25cos(q₁ + q₂))*(-0.5q̇₁*sin(q₁ + q₂) - (0.5q̇₂*sin(q₁ + q₂))) + (0.5sin(q₁) + 0.25sin(q₁ + q₂))*(0.5q̇₁*cos(q₁ + q₂) + 0.5q̇₂*cos(q₁ + q₂)) + 0.25cos(q₁ + q₂)*(q̇₁*(sin(q₁) + 0.5sin(q₁ + q₂)) + 0.5q̇₂*sin(q₁ + q₂)) + 0.5cos(q₁ + q₂)*(0.5q̇₁*(sin(q₁) + 0.5sin(q₁ + q₂)) + 0.25q̇₂*sin(q₁ + q₂)) - (0.25sin(q₁ + q₂)*(q̇₁*(cos(q₁) + 0.5cos(q₁ + q₂)) + 0.5q̇₂*cos(q₁ + q₂))) - (0.5sin(q₁ + q₂)*(0.5q̇₁*(cos(q₁) + 0.5cos(q₁ + q₂)) + 0.25q̇₂*cos(q₁ + q₂)))) + 14.715sin(q₁) + 4.905sin(q₁ + q₂)\n",
       " q̇₂*(2cos(q₁ + q₂)*(0.25q̇₁*(sin(q₁) + 0.5sin(q₁ + q₂)) - (0.125q̇₁*sin(q₁ + q₂))) + 0.5sin(q₁ + q₂)*(0.25q̇₁*cos(q₁ + q₂) + 0.25q̇₂*cos(q₁ + q₂)) + 0.25sin(q₁ + q₂)*(0.5q̇₁*cos(q₁ + q₂) + 0.5q̇₂*cos(q₁ + q₂)) - (0.25sin(q₁ + q₂)*(q̇₁*(cos(q₁) + 0.5cos(q₁ + q₂)) + 0.5q̇₂*cos(q₁ + q₂))) - (0.5sin(q₁ + q₂)*(0.5q̇₁*(cos(q₁) + 0.5cos(q₁ + q₂)) + 0.25q̇₂*cos(q₁ + q₂)))) + 4.905sin(q₁ + q₂) - ((q̇₁*(cos(q₁) + 0.5cos(q₁ + q₂)) + 0.5q̇₂*cos(q₁ + q₂))*(-0.25q̇₁*sin(q₁ + q₂) - (0.25q̇₂*sin(q₁ + q₂)))) - ((q̇₁*(sin(q₁) + 0.5sin(q₁ + q₂)) + 0.5q̇₂*sin(q₁ + q₂))*(0.25q̇₁*cos(q₁ + q₂) + 0.25q̇₂*cos(q₁ + q₂))) - ((0.5q̇₁*cos(q₁ + q₂) + 0.5q̇₂*cos(q₁ + q₂))*(0.5q̇₁*(sin(q₁) + 0.5sin(q₁ + q₂)) + 0.25q̇₂*sin(q₁ + q₂))) - ((-0.5q̇₁*sin(q₁ + q₂) - (0.5q̇₂*sin(q₁ + q₂)))*(0.5q̇₁*(cos(q₁) + 0.5cos(q₁ + q₂)) + 0.25q̇₂*cos(q₁ + q₂)))"
      ]
     },
     "execution_count": 6,
     "metadata": {},
     "output_type": "execute_result"
    }
   ],
   "source": [
    "# Lagrangian\n",
    "function lagrangian(model, q, q̇)\n",
    "\tL = 0.0\n",
    "\n",
    "\t# mass 1\n",
    "\tv1 = j1_func(q) * q̇\n",
    "\tL += 0.5 * model.m1 * transpose(v1) * v1 \t\t# kinetic energy\n",
    "\tL -= model.m1 * 9.81 * k1_func(q)[2]            # potential energy\n",
    "\n",
    "\t# mass 2\n",
    "\tv2 = j2_func(q) * q̇\n",
    "\tL += 0.5 * model.m2 * transpose(v2) * v2\n",
    "\tL -= model.m2 * 9.81 * k2_func(q)[2]\n",
    "\n",
    "\treturn L\n",
    "end\n",
    "\n",
    "# fast Lagrangian\n",
    "L = lagrangian(model, q, q̇)\n",
    "\n",
    "# \n",
    "dLq = Symbolics.gradient(L, q, simplify = true)\n",
    "dLq̇ = Symbolics.gradient(L, q̇, simplify = true)\n",
    "ddL = Symbolics.hessian(L, [q; q̇], simplify = true)\n",
    "\n",
    "# mass matrix\n",
    "M = ddL[n .+ (1:n), n .+ (1:n)]\n",
    "M = simplify.(M)\n",
    "\n",
    "# dynamics bias\n",
    "C = ddL[n .+ (1:n), 1:n] * q̇ - dLq\n",
    "C = simplify.(C)"
   ]
  },
  {
   "cell_type": "code",
   "execution_count": 19,
   "metadata": {},
   "outputs": [
    {
     "data": {
      "text/plain": [
       "#22 (generic function with 1 method)"
      ]
     },
     "execution_count": 19,
     "metadata": {},
     "output_type": "execute_result"
    }
   ],
   "source": [
    "# dynamics\n",
    "# ẋ = [q̇; M \\ (-1.0 * C)]\n",
    "ẋ = [q̇; M \\ (-0.5 * q̇ -1.0 * C)] # joint friction\n",
    "# ẋ = [q̇; M \\ (-1.0 * (q - [π / 10; 0.0]) -1.0 * C)] # spring\n",
    "\n",
    "ẋ = simplify.(ẋ)\n",
    "\n",
    "ẋ_exp = Symbolics.build_function(ẋ, q, q̇)\n",
    "dynamics = eval(ẋ_exp[1])"
   ]
  },
  {
   "cell_type": "code",
   "execution_count": 20,
   "metadata": {},
   "outputs": [
    {
     "data": {
      "text/plain": [
       "\"/home/taylor/Research/symbolics_double_pendulum/dynamics.jld2\""
      ]
     },
     "execution_count": 20,
     "metadata": {},
     "output_type": "execute_result"
    }
   ],
   "source": [
    "# save dynamics function\n",
    "path = joinpath(pwd(), \"dynamics.jld2\")\n",
    "# @save path ẋ_exp\n",
    "# @load path ẋ_exp"
   ]
  },
  {
   "cell_type": "code",
   "execution_count": 21,
   "metadata": {},
   "outputs": [],
   "source": [
    "# DifferentialEquations.jl\n",
    "function dynamics!(ẋ, x, p, t)\n",
    "\tẋ .= dynamics(view(x, 1:n), view(x, n .+ (1:n)))\n",
    "end\n",
    "\n",
    "# simulate\n",
    "x0 = [0.5 * π; 0.0; 0.0; 0.0]\n",
    "tspan = (0.0, 10.0)\n",
    "dt = 0.01\n",
    "prob = ODEProblem(dynamics!, x0, tspan);"
   ]
  },
  {
   "cell_type": "code",
   "execution_count": 22,
   "metadata": {},
   "outputs": [],
   "source": [
    "sol = solve(prob, Tsit5(), adaptive = false, dt = dt);"
   ]
  },
  {
   "cell_type": "code",
   "execution_count": 23,
   "metadata": {},
   "outputs": [
    {
     "name": "stderr",
     "output_type": "stream",
     "text": [
      "┌ Info: MeshCat server started. You can open the visualizer by visiting the following URL in your browser:\n",
      "│ http://127.0.0.1:8704\n",
      "└ @ MeshCat /home/taylor/.julia/packages/MeshCat/GlCMx/src/visualizer.jl:73\n"
     ]
    },
    {
     "data": {
      "text/html": [
       "    <div style=\"height: 500px; width: 100%; overflow-x: auto; overflow-y: hidden; resize: both\">\n",
       "    <iframe src=\"http://127.0.0.1:8704\" style=\"width: 100%; height: 100%; border: none\"></iframe>\n",
       "    </div>\n"
      ],
      "text/plain": [
       "MeshCat.DisplayedVisualizer(MeshCat.CoreVisualizer(MeshCat.SceneTrees.SceneNode(nothing, nothing, Dict{String, Vector{UInt8}}(), nothing, Dict{String, MeshCat.SceneTrees.SceneNode}()), Set{Any}(), ip\"127.0.0.1\", 8704))"
      ]
     },
     "execution_count": 23,
     "metadata": {},
     "output_type": "execute_result"
    }
   ],
   "source": [
    "# MeshCat.jl\n",
    "include(joinpath(pwd(), \"visuals.jl\"))\n",
    "vis = Visualizer()\n",
    "render(vis)"
   ]
  },
  {
   "cell_type": "code",
   "execution_count": 24,
   "metadata": {},
   "outputs": [],
   "source": [
    "visualize_double_pendulum!(vis, model, sol.u, Δt = dt)"
   ]
  },
  {
   "cell_type": "code",
   "execution_count": null,
   "metadata": {},
   "outputs": [],
   "source": []
  },
  {
   "cell_type": "code",
   "execution_count": null,
   "metadata": {},
   "outputs": [],
   "source": []
  }
 ],
 "metadata": {
  "kernelspec": {
   "display_name": "Julia 1.6.0",
   "language": "julia",
   "name": "julia-1.6"
  },
  "language_info": {
   "file_extension": ".jl",
   "mimetype": "application/julia",
   "name": "julia",
   "version": "1.6.0"
  }
 },
 "nbformat": 4,
 "nbformat_minor": 4
}
